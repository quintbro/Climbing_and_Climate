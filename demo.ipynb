{
 "cells": [
  {
   "cell_type": "code",
   "execution_count": 1,
   "metadata": {},
   "outputs": [],
   "source": [
    "import pyclimb as pc "
   ]
  },
  {
   "cell_type": "code",
   "execution_count": 11,
   "metadata": {},
   "outputs": [
    {
     "data": {
      "text/plain": [
       "Index(['Area Latitude', 'Area Longitude', 'OBJECTID', 'STATION_NA', 'STN_ID_',\n",
       "       'SECONDARY_', 'STN_AUTHOR', 'NETWORK_', 'LOCATION_O', 'TYPE_OF_OB',\n",
       "       'ACTIVE_INA', 'PERIOD_OF_', 'LATITUDE', 'LONGITUDE', 'COUNTY',\n",
       "       'CLIMATE_DI', 'WATER_BASI', 'HUC', 'TEMP_', 'PRECIPITAT', 'SNOW_FALL',\n",
       "       'SNW_GND_DP', 'DEW_POINT', 'REL_HUM', 'WIND_SPEED', 'WIND_GUST',\n",
       "       'SOLAR_RAD', 'SOIL_MOIST', 'SOIL_TEMP', 'FUEL_TEMP', 'FUEL_MOIST',\n",
       "       'PRESSURE', 'SL_PRESSUR', 'ALTIMETER', 'WEATHER_CO', 'VISIBILITY',\n",
       "       'UVB', 'ELEVATION'],\n",
       "      dtype='object')"
      ]
     },
     "execution_count": 11,
     "metadata": {},
     "output_type": "execute_result"
    }
   ],
   "source": [
    "weather = pc.load_data('weather')"
   ]
  },
  {
   "cell_type": "code",
   "execution_count": 13,
   "metadata": {},
   "outputs": [
    {
     "data": {
      "text/plain": [
       "Index(['Area Latitude', 'Area Longitude', 'OBJECTID', 'STATION_NA', 'STN_ID_',\n",
       "       'SECONDARY_', 'STN_AUTHOR', 'NETWORK_', 'LOCATION_O', 'TYPE_OF_OB',\n",
       "       'ACTIVE_INA', 'PERIOD_OF_', 'LATITUDE', 'LONGITUDE', 'COUNTY',\n",
       "       'CLIMATE_DI', 'WATER_BASI', 'HUC', 'TEMP_', 'PRECIPITAT', 'SNOW_FALL',\n",
       "       'SNW_GND_DP', 'DEW_POINT', 'REL_HUM', 'WIND_SPEED', 'WIND_GUST',\n",
       "       'SOLAR_RAD', 'SOIL_MOIST', 'SOIL_TEMP', 'FUEL_TEMP', 'FUEL_MOIST',\n",
       "       'PRESSURE', 'SL_PRESSUR', 'ALTIMETER', 'WEATHER_CO', 'VISIBILITY',\n",
       "       'UVB', 'ELEVATION'],\n",
       "      dtype='object')"
      ]
     },
     "execution_count": 13,
     "metadata": {},
     "output_type": "execute_result"
    }
   ],
   "source": [
    "weather.columns"
   ]
  },
  {
   "cell_type": "code",
   "execution_count": 20,
   "metadata": {},
   "outputs": [
    {
     "data": {
      "text/html": [
       "<div>\n",
       "<style scoped>\n",
       "    .dataframe tbody tr th:only-of-type {\n",
       "        vertical-align: middle;\n",
       "    }\n",
       "\n",
       "    .dataframe tbody tr th {\n",
       "        vertical-align: top;\n",
       "    }\n",
       "\n",
       "    .dataframe thead th {\n",
       "        text-align: right;\n",
       "    }\n",
       "</style>\n",
       "<table border=\"1\" class=\"dataframe\">\n",
       "  <thead>\n",
       "    <tr style=\"text-align: right;\">\n",
       "      <th></th>\n",
       "      <th>LONGITUDE</th>\n",
       "      <th>LATITUDE</th>\n",
       "      <th>STATION_NA</th>\n",
       "      <th>REL_HUM</th>\n",
       "      <th>WIND_SPEED</th>\n",
       "      <th>PRECIPITAT</th>\n",
       "      <th>SNOW_FALL</th>\n",
       "      <th>ELEVATION</th>\n",
       "      <th>TEMP_</th>\n",
       "      <th>WIND_GUST</th>\n",
       "    </tr>\n",
       "  </thead>\n",
       "  <tbody>\n",
       "    <tr>\n",
       "      <th>0</th>\n",
       "      <td>-113.000000</td>\n",
       "      <td>37.000000</td>\n",
       "      <td>CANNAN</td>\n",
       "      <td></td>\n",
       "      <td></td>\n",
       "      <td>P</td>\n",
       "      <td>SNOW FALL</td>\n",
       "      <td>5000.000000</td>\n",
       "      <td></td>\n",
       "      <td></td>\n",
       "    </tr>\n",
       "    <tr>\n",
       "      <th>1</th>\n",
       "      <td>-113.280500</td>\n",
       "      <td>37.000600</td>\n",
       "      <td>FORT PEARCE /ST GEORGE</td>\n",
       "      <td></td>\n",
       "      <td></td>\n",
       "      <td>P</td>\n",
       "      <td></td>\n",
       "      <td></td>\n",
       "      <td></td>\n",
       "      <td></td>\n",
       "    </tr>\n",
       "    <tr>\n",
       "      <th>2</th>\n",
       "      <td>-113.404700</td>\n",
       "      <td>37.005200</td>\n",
       "      <td>VIRGIN RIVER/ST GEORGE 10SW</td>\n",
       "      <td></td>\n",
       "      <td></td>\n",
       "      <td>P</td>\n",
       "      <td></td>\n",
       "      <td></td>\n",
       "      <td></td>\n",
       "      <td></td>\n",
       "    </tr>\n",
       "    <tr>\n",
       "      <th>3</th>\n",
       "      <td>-112.530000</td>\n",
       "      <td>37.010000</td>\n",
       "      <td>KANAB MUNICIPAL AIRPORT</td>\n",
       "      <td>RH</td>\n",
       "      <td>WS</td>\n",
       "      <td></td>\n",
       "      <td></td>\n",
       "      <td>4863.912000</td>\n",
       "      <td>T</td>\n",
       "      <td></td>\n",
       "    </tr>\n",
       "    <tr>\n",
       "      <th>4</th>\n",
       "      <td>-112.965500</td>\n",
       "      <td>37.014700</td>\n",
       "      <td>CW2921 Hildale</td>\n",
       "      <td>RH</td>\n",
       "      <td>WS</td>\n",
       "      <td></td>\n",
       "      <td></td>\n",
       "      <td>5155.832000</td>\n",
       "      <td>T</td>\n",
       "      <td></td>\n",
       "    </tr>\n",
       "    <tr>\n",
       "      <th>...</th>\n",
       "      <td>...</td>\n",
       "      <td>...</td>\n",
       "      <td>...</td>\n",
       "      <td>...</td>\n",
       "      <td>...</td>\n",
       "      <td>...</td>\n",
       "      <td>...</td>\n",
       "      <td>...</td>\n",
       "      <td>...</td>\n",
       "      <td>...</td>\n",
       "    </tr>\n",
       "    <tr>\n",
       "      <th>1547</th>\n",
       "      <td>-111.833333</td>\n",
       "      <td>41.966667</td>\n",
       "      <td>LEWISTON</td>\n",
       "      <td></td>\n",
       "      <td></td>\n",
       "      <td>P</td>\n",
       "      <td>SNOW FALL</td>\n",
       "      <td>4480.000000</td>\n",
       "      <td>T</td>\n",
       "      <td></td>\n",
       "    </tr>\n",
       "    <tr>\n",
       "      <th>1548</th>\n",
       "      <td>-111.400000</td>\n",
       "      <td>41.966667</td>\n",
       "      <td>BEAR LAKE STATE PARK</td>\n",
       "      <td></td>\n",
       "      <td></td>\n",
       "      <td>P</td>\n",
       "      <td>SNOW FALL</td>\n",
       "      <td>6000.000000</td>\n",
       "      <td>T</td>\n",
       "      <td></td>\n",
       "    </tr>\n",
       "    <tr>\n",
       "      <th>1549</th>\n",
       "      <td>-111.000000</td>\n",
       "      <td>42.000000</td>\n",
       "      <td>DMAD RESERVOIR</td>\n",
       "      <td>RH</td>\n",
       "      <td>WS</td>\n",
       "      <td>P</td>\n",
       "      <td></td>\n",
       "      <td>4400.000000</td>\n",
       "      <td>T</td>\n",
       "      <td></td>\n",
       "    </tr>\n",
       "    <tr>\n",
       "      <th>1550</th>\n",
       "      <td>-112.174700</td>\n",
       "      <td>42.074670</td>\n",
       "      <td>FLINT CREEK</td>\n",
       "      <td>RH</td>\n",
       "      <td>WS</td>\n",
       "      <td>P</td>\n",
       "      <td></td>\n",
       "      <td>5200.000000</td>\n",
       "      <td>T</td>\n",
       "      <td></td>\n",
       "    </tr>\n",
       "    <tr>\n",
       "      <th>1551</th>\n",
       "      <td>-111.368700</td>\n",
       "      <td>42.093170</td>\n",
       "      <td>LIFTON</td>\n",
       "      <td>RH</td>\n",
       "      <td>WS</td>\n",
       "      <td>P</td>\n",
       "      <td></td>\n",
       "      <td>5930.000000</td>\n",
       "      <td>T</td>\n",
       "      <td></td>\n",
       "    </tr>\n",
       "  </tbody>\n",
       "</table>\n",
       "<p>1552 rows × 10 columns</p>\n",
       "</div>"
      ],
      "text/plain": [
       "       LONGITUDE   LATITUDE                   STATION_NA REL_HUM WIND_SPEED  \\\n",
       "0    -113.000000  37.000000                       CANNAN                      \n",
       "1    -113.280500  37.000600       FORT PEARCE /ST GEORGE                      \n",
       "2    -113.404700  37.005200  VIRGIN RIVER/ST GEORGE 10SW                      \n",
       "3    -112.530000  37.010000      KANAB MUNICIPAL AIRPORT      RH         WS   \n",
       "4    -112.965500  37.014700               CW2921 Hildale      RH         WS   \n",
       "...          ...        ...                          ...     ...        ...   \n",
       "1547 -111.833333  41.966667                     LEWISTON                      \n",
       "1548 -111.400000  41.966667         BEAR LAKE STATE PARK                      \n",
       "1549 -111.000000  42.000000               DMAD RESERVOIR      RH         WS   \n",
       "1550 -112.174700  42.074670                  FLINT CREEK      RH         WS   \n",
       "1551 -111.368700  42.093170                       LIFTON      RH         WS   \n",
       "\n",
       "     PRECIPITAT  SNOW_FALL    ELEVATION TEMP_ WIND_GUST  \n",
       "0             P  SNOW FALL  5000.000000                  \n",
       "1             P                                          \n",
       "2             P                                          \n",
       "3                           4863.912000     T            \n",
       "4                           5155.832000     T            \n",
       "...         ...        ...          ...   ...       ...  \n",
       "1547          P  SNOW FALL  4480.000000     T            \n",
       "1548          P  SNOW FALL  6000.000000     T            \n",
       "1549          P             4400.000000     T            \n",
       "1550          P             5200.000000     T            \n",
       "1551          P             5930.000000     T            \n",
       "\n",
       "[1552 rows x 10 columns]"
      ]
     },
     "execution_count": 20,
     "metadata": {},
     "output_type": "execute_result"
    }
   ],
   "source": [
    "weather[['LONGITUDE', 'LATITUDE','STATION_NA', 'REL_HUM', 'WIND_SPEED', 'PRECIPITAT', 'SNOW_FALL', 'ELEVATION', 'TEMP_', 'WIND_GUST']]"
   ]
  },
  {
   "cell_type": "code",
   "execution_count": 18,
   "metadata": {},
   "outputs": [
    {
     "data": {
      "text/plain": [
       "array([' ', 'T'], dtype=object)"
      ]
     },
     "execution_count": 18,
     "metadata": {},
     "output_type": "execute_result"
    }
   ],
   "source": [
    "weather.TEMP_.unique()"
   ]
  },
  {
   "cell_type": "code",
   "execution_count": 3,
   "metadata": {},
   "outputs": [],
   "source": [
    "import requests\n",
    "import pandas as pd"
   ]
  },
  {
   "cell_type": "code",
   "execution_count": 4,
   "metadata": {},
   "outputs": [],
   "source": [
    "r = requests.get(\"https://www.mapsofworld.com/usa/states/utah/lat-long.html\")"
   ]
  },
  {
   "cell_type": "code",
   "execution_count": 5,
   "metadata": {},
   "outputs": [
    {
     "name": "stderr",
     "output_type": "stream",
     "text": [
      "C:\\Users\\rileyw\\AppData\\Local\\Temp\\ipykernel_13512\\3387007372.py:1: FutureWarning: Passing literal html to 'read_html' is deprecated and will be removed in a future version. To read from a literal string, wrap it in a 'StringIO' object.\n",
      "  cities = pd.read_html(r.text)[1]\n"
     ]
    }
   ],
   "source": [
    "cities = pd.read_html(r.text)[1]"
   ]
  },
  {
   "cell_type": "code",
   "execution_count": 6,
   "metadata": {},
   "outputs": [
    {
     "data": {
      "text/html": [
       "<div>\n",
       "<style scoped>\n",
       "    .dataframe tbody tr th:only-of-type {\n",
       "        vertical-align: middle;\n",
       "    }\n",
       "\n",
       "    .dataframe tbody tr th {\n",
       "        vertical-align: top;\n",
       "    }\n",
       "\n",
       "    .dataframe thead th {\n",
       "        text-align: right;\n",
       "    }\n",
       "</style>\n",
       "<table border=\"1\" class=\"dataframe\">\n",
       "  <thead>\n",
       "    <tr style=\"text-align: right;\">\n",
       "      <th></th>\n",
       "      <th>Location</th>\n",
       "      <th>Latitude</th>\n",
       "      <th>Longitude</th>\n",
       "    </tr>\n",
       "  </thead>\n",
       "  <tbody>\n",
       "    <tr>\n",
       "      <th>0</th>\n",
       "      <td>Alpine city</td>\n",
       "      <td>40.46</td>\n",
       "      <td>-111.77</td>\n",
       "    </tr>\n",
       "    <tr>\n",
       "      <th>1</th>\n",
       "      <td>Alta town</td>\n",
       "      <td>40.58</td>\n",
       "      <td>-111.62</td>\n",
       "    </tr>\n",
       "    <tr>\n",
       "      <th>2</th>\n",
       "      <td>Altamont town</td>\n",
       "      <td>40.36</td>\n",
       "      <td>-110.29</td>\n",
       "    </tr>\n",
       "    <tr>\n",
       "      <th>3</th>\n",
       "      <td>Alton town</td>\n",
       "      <td>37.43</td>\n",
       "      <td>-112.51</td>\n",
       "    </tr>\n",
       "    <tr>\n",
       "      <th>4</th>\n",
       "      <td>Amalga town</td>\n",
       "      <td>41.86</td>\n",
       "      <td>-111.90</td>\n",
       "    </tr>\n",
       "    <tr>\n",
       "      <th>...</th>\n",
       "      <td>...</td>\n",
       "      <td>...</td>\n",
       "      <td>...</td>\n",
       "    </tr>\n",
       "    <tr>\n",
       "      <th>321</th>\n",
       "      <td>Wolf Creek</td>\n",
       "      <td>41.33</td>\n",
       "      <td>-111.83</td>\n",
       "    </tr>\n",
       "    <tr>\n",
       "      <th>322</th>\n",
       "      <td>Woodland</td>\n",
       "      <td>40.58</td>\n",
       "      <td>-111.24</td>\n",
       "    </tr>\n",
       "    <tr>\n",
       "      <th>323</th>\n",
       "      <td>Woodland Hills city</td>\n",
       "      <td>40.01</td>\n",
       "      <td>-111.65</td>\n",
       "    </tr>\n",
       "    <tr>\n",
       "      <th>324</th>\n",
       "      <td>Woodruff town</td>\n",
       "      <td>41.52</td>\n",
       "      <td>-111.16</td>\n",
       "    </tr>\n",
       "    <tr>\n",
       "      <th>325</th>\n",
       "      <td>Woods Cross city</td>\n",
       "      <td>40.87</td>\n",
       "      <td>-111.92</td>\n",
       "    </tr>\n",
       "  </tbody>\n",
       "</table>\n",
       "<p>326 rows × 3 columns</p>\n",
       "</div>"
      ],
      "text/plain": [
       "                Location  Latitude  Longitude\n",
       "0            Alpine city     40.46    -111.77\n",
       "1              Alta town     40.58    -111.62\n",
       "2          Altamont town     40.36    -110.29\n",
       "3             Alton town     37.43    -112.51\n",
       "4            Amalga town     41.86    -111.90\n",
       "..                   ...       ...        ...\n",
       "321           Wolf Creek     41.33    -111.83\n",
       "322             Woodland     40.58    -111.24\n",
       "323  Woodland Hills city     40.01    -111.65\n",
       "324        Woodruff town     41.52    -111.16\n",
       "325     Woods Cross city     40.87    -111.92\n",
       "\n",
       "[326 rows x 3 columns]"
      ]
     },
     "execution_count": 6,
     "metadata": {},
     "output_type": "execute_result"
    }
   ],
   "source": [
    "cities"
   ]
  },
  {
   "cell_type": "code",
   "execution_count": 7,
   "metadata": {},
   "outputs": [],
   "source": [
    "cities.to_csv(\"utah_cities.csv\")"
   ]
  }
 ],
 "metadata": {
  "kernelspec": {
   "display_name": "testenv",
   "language": "python",
   "name": "python3"
  },
  "language_info": {
   "codemirror_mode": {
    "name": "ipython",
    "version": 3
   },
   "file_extension": ".py",
   "mimetype": "text/x-python",
   "name": "python",
   "nbconvert_exporter": "python",
   "pygments_lexer": "ipython3",
   "version": "3.11.5"
  }
 },
 "nbformat": 4,
 "nbformat_minor": 2
}
