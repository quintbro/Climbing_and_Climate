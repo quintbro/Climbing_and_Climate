{
 "cells": [
  {
   "cell_type": "code",
   "execution_count": 1,
   "metadata": {},
   "outputs": [],
   "source": [
    "import pandas as pd\n",
    "import math"
   ]
  },
  {
   "cell_type": "code",
   "execution_count": 2,
   "metadata": {},
   "outputs": [],
   "source": [
    "climbs = pd.read_csv('utah_climbs.csv')\n",
    "weather = pd.read_csv('Utah_Weather_Stations.csv')"
   ]
  },
  {
   "cell_type": "code",
   "execution_count": 3,
   "metadata": {},
   "outputs": [
    {
     "name": "stderr",
     "output_type": "stream",
     "text": [
      "C:\\Users\\rileyw\\AppData\\Local\\Temp\\ipykernel_12636\\4247580295.py:4: SettingWithCopyWarning: \n",
      "A value is trying to be set on a copy of a slice from a DataFrame\n",
      "\n",
      "See the caveats in the documentation: https://pandas.pydata.org/pandas-docs/stable/user_guide/indexing.html#returning-a-view-versus-a-copy\n",
      "  climbll.rename({'Area Longitude' : 'longitude', 'Area Latitude' : 'latitude'}, axis = 1, inplace = True)\n",
      "C:\\Users\\rileyw\\AppData\\Local\\Temp\\ipykernel_12636\\4247580295.py:5: SettingWithCopyWarning: \n",
      "A value is trying to be set on a copy of a slice from a DataFrame\n",
      "\n",
      "See the caveats in the documentation: https://pandas.pydata.org/pandas-docs/stable/user_guide/indexing.html#returning-a-view-versus-a-copy\n",
      "  weatherll.rename({'LONGITUDE' : 'longitude', 'LATITUDE' : 'latitude'}, axis = 1, inplace = True)\n"
     ]
    }
   ],
   "source": [
    "climbll = climbs[['Area Longitude', 'Area Latitude']]\n",
    "weatherll = weather[['LONGITUDE', 'LATITUDE']]\n",
    "\n",
    "climbll.rename({'Area Longitude' : 'longitude', 'Area Latitude' : 'latitude'}, axis = 1, inplace = True)\n",
    "weatherll.rename({'LONGITUDE' : 'longitude', 'LATITUDE' : 'latitude'}, axis = 1, inplace = True)"
   ]
  },
  {
   "cell_type": "code",
   "execution_count": 9,
   "metadata": {},
   "outputs": [
    {
     "data": {
      "text/plain": [
       "3.9818701375358807"
      ]
     },
     "execution_count": 9,
     "metadata": {},
     "output_type": "execute_result"
    }
   ],
   "source": [
    "math.dist(climbll.iloc[0], weatherll.iloc[0])"
   ]
  }
 ],
 "metadata": {
  "kernelspec": {
   "display_name": "stat386",
   "language": "python",
   "name": "python3"
  },
  "language_info": {
   "codemirror_mode": {
    "name": "ipython",
    "version": 3
   },
   "file_extension": ".py",
   "mimetype": "text/x-python",
   "name": "python",
   "nbconvert_exporter": "python",
   "pygments_lexer": "ipython3",
   "version": "3.10.0"
  }
 },
 "nbformat": 4,
 "nbformat_minor": 2
}
