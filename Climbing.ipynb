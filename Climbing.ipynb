{
 "cells": [
  {
   "cell_type": "code",
   "execution_count": 5,
   "metadata": {},
   "outputs": [],
   "source": [
    "import pandas as pd\n",
    "import numpy as np\n",
    "from bs4 import BeautifulSoup\n",
    "import requests\n",
    "import re\n",
    "import time\n",
    "import os"
   ]
  },
  {
   "cell_type": "code",
   "execution_count": 8,
   "metadata": {},
   "outputs": [],
   "source": [
    "climbs = pd.read_csv(\"route-finder.csv\")"
   ]
  },
  {
   "cell_type": "code",
   "execution_count": 11,
   "metadata": {},
   "outputs": [
    {
     "data": {
      "text/html": [
       "<div>\n",
       "<style scoped>\n",
       "    .dataframe tbody tr th:only-of-type {\n",
       "        vertical-align: middle;\n",
       "    }\n",
       "\n",
       "    .dataframe tbody tr th {\n",
       "        vertical-align: top;\n",
       "    }\n",
       "\n",
       "    .dataframe thead th {\n",
       "        text-align: right;\n",
       "    }\n",
       "</style>\n",
       "<table border=\"1\" class=\"dataframe\">\n",
       "  <thead>\n",
       "    <tr style=\"text-align: right;\">\n",
       "      <th></th>\n",
       "      <th>Route</th>\n",
       "      <th>Location</th>\n",
       "      <th>URL</th>\n",
       "      <th>Avg Stars</th>\n",
       "      <th>Your Stars</th>\n",
       "      <th>Route Type</th>\n",
       "      <th>Rating</th>\n",
       "      <th>Pitches</th>\n",
       "      <th>Length</th>\n",
       "      <th>Area Latitude</th>\n",
       "      <th>Area Longitude</th>\n",
       "    </tr>\n",
       "  </thead>\n",
       "  <tbody>\n",
       "    <tr>\n",
       "      <th>0</th>\n",
       "      <td>Unknown 5</td>\n",
       "      <td>West Slabs &gt; Silver Plume &gt; Colorado</td>\n",
       "      <td>https://www.mountainproject.com/route/10825985...</td>\n",
       "      <td>1.0</td>\n",
       "      <td>-1</td>\n",
       "      <td>Trad, Sport</td>\n",
       "      <td>5.5</td>\n",
       "      <td>1</td>\n",
       "      <td>50.0</td>\n",
       "      <td>39.698</td>\n",
       "      <td>-105.7435</td>\n",
       "    </tr>\n",
       "    <tr>\n",
       "      <th>1</th>\n",
       "      <td>Unknown 7+</td>\n",
       "      <td>West Slabs &gt; Silver Plume &gt; Colorado</td>\n",
       "      <td>https://www.mountainproject.com/route/10825977...</td>\n",
       "      <td>1.5</td>\n",
       "      <td>-1</td>\n",
       "      <td>Trad, Sport</td>\n",
       "      <td>5.7+</td>\n",
       "      <td>1</td>\n",
       "      <td>85.0</td>\n",
       "      <td>39.698</td>\n",
       "      <td>-105.7435</td>\n",
       "    </tr>\n",
       "    <tr>\n",
       "      <th>2</th>\n",
       "      <td>Unknown 9</td>\n",
       "      <td>West Slabs &gt; Silver Plume &gt; Colorado</td>\n",
       "      <td>https://www.mountainproject.com/route/10825981...</td>\n",
       "      <td>2.0</td>\n",
       "      <td>-1</td>\n",
       "      <td>Trad, Sport</td>\n",
       "      <td>5.9</td>\n",
       "      <td>1</td>\n",
       "      <td>90.0</td>\n",
       "      <td>39.698</td>\n",
       "      <td>-105.7435</td>\n",
       "    </tr>\n",
       "    <tr>\n",
       "      <th>3</th>\n",
       "      <td>Unknown 2nd 9</td>\n",
       "      <td>West Slabs &gt; Silver Plume &gt; Colorado</td>\n",
       "      <td>https://www.mountainproject.com/route/10825981...</td>\n",
       "      <td>2.0</td>\n",
       "      <td>-1</td>\n",
       "      <td>Trad, Sport</td>\n",
       "      <td>5.9</td>\n",
       "      <td>1</td>\n",
       "      <td>90.0</td>\n",
       "      <td>39.698</td>\n",
       "      <td>-105.7435</td>\n",
       "    </tr>\n",
       "    <tr>\n",
       "      <th>4</th>\n",
       "      <td>Unknown 9+</td>\n",
       "      <td>West Slabs &gt; Silver Plume &gt; Colorado</td>\n",
       "      <td>https://www.mountainproject.com/route/10825983...</td>\n",
       "      <td>2.0</td>\n",
       "      <td>-1</td>\n",
       "      <td>Trad, Sport</td>\n",
       "      <td>5.9+</td>\n",
       "      <td>3</td>\n",
       "      <td>180.0</td>\n",
       "      <td>39.698</td>\n",
       "      <td>-105.7435</td>\n",
       "    </tr>\n",
       "  </tbody>\n",
       "</table>\n",
       "</div>"
      ],
      "text/plain": [
       "           Route                              Location  \\\n",
       "0      Unknown 5  West Slabs > Silver Plume > Colorado   \n",
       "1     Unknown 7+  West Slabs > Silver Plume > Colorado   \n",
       "2      Unknown 9  West Slabs > Silver Plume > Colorado   \n",
       "3  Unknown 2nd 9  West Slabs > Silver Plume > Colorado   \n",
       "4     Unknown 9+  West Slabs > Silver Plume > Colorado   \n",
       "\n",
       "                                                 URL  Avg Stars  Your Stars  \\\n",
       "0  https://www.mountainproject.com/route/10825985...        1.0          -1   \n",
       "1  https://www.mountainproject.com/route/10825977...        1.5          -1   \n",
       "2  https://www.mountainproject.com/route/10825981...        2.0          -1   \n",
       "3  https://www.mountainproject.com/route/10825981...        2.0          -1   \n",
       "4  https://www.mountainproject.com/route/10825983...        2.0          -1   \n",
       "\n",
       "    Route Type Rating  Pitches  Length  Area Latitude  Area Longitude  \n",
       "0  Trad, Sport    5.5        1    50.0         39.698       -105.7435  \n",
       "1  Trad, Sport   5.7+        1    85.0         39.698       -105.7435  \n",
       "2  Trad, Sport    5.9        1    90.0         39.698       -105.7435  \n",
       "3  Trad, Sport    5.9        1    90.0         39.698       -105.7435  \n",
       "4  Trad, Sport   5.9+        3   180.0         39.698       -105.7435  "
      ]
     },
     "execution_count": 11,
     "metadata": {},
     "output_type": "execute_result"
    }
   ],
   "source": [
    "climbs.head()"
   ]
  },
  {
   "cell_type": "code",
   "execution_count": 12,
   "metadata": {},
   "outputs": [],
   "source": [
    "url = \"https://www.mountainproject.com/gyms/utah\""
   ]
  },
  {
   "cell_type": "code",
   "execution_count": 14,
   "metadata": {},
   "outputs": [],
   "source": [
    "r = requests.get(url)"
   ]
  },
  {
   "cell_type": "code",
   "execution_count": 19,
   "metadata": {},
   "outputs": [],
   "source": [
    "soup = BeautifulSoup(r.text)"
   ]
  },
  {
   "cell_type": "code",
   "execution_count": 51,
   "metadata": {},
   "outputs": [
    {
     "data": {
      "text/plain": [
       "['Add Missing Gym',\n",
       " 'AlpenFit - Indoor Training for Outdoo…',\n",
       " 'Contact Climbing',\n",
       " 'Dimple Dell',\n",
       " 'Double-Diamond Climbing Wall',\n",
       " 'Elevation Rock Gym',\n",
       " 'Fit Stop Rock Climbing Gym',\n",
       " 'iROCK Utah',\n",
       " 'Lehi Legacy Center',\n",
       " 'Momentum Indoor Climbing Gym',\n",
       " 'Momentum Lehi',\n",
       " 'Momentum Millcreek',\n",
       " 'Salt Lake Bouldering Project',\n",
       " 'SUU Climbing Gym',\n",
       " 'Taylorsville Rec Center',\n",
       " 'Technical Training Center',\n",
       " 'The Front Climbing Club',\n",
       " 'The Front Climbing Club',\n",
       " 'The Front Climbing Club - South Main',\n",
       " 'The Project',\n",
       " 'The Quarry',\n",
       " 'The Scratch Pad',\n",
       " 'The Summit',\n",
       " 'Uintah Recreation Community Center',\n",
       " 'Ultimate Sports Arena',\n",
       " 'Washington City Community Center',\n",
       " 'West Valley Family Fitness Center cli…']"
      ]
     },
     "execution_count": 51,
     "metadata": {},
     "output_type": "execute_result"
    }
   ],
   "source": [
    "links = soup.find_all('a')\n",
    "#links = [i['href'] for i in links]\n",
    "#links[0]['href']\n",
    "\n",
    "def hasGym(link):\n",
    "    try:\n",
    "        if \"gym/\" in link[\"href\"]:\n",
    "            return True\n",
    "        else:\n",
    "            return False\n",
    "    except:\n",
    "        return False\n",
    "\n",
    "gyms = [link.text for link in links if hasGym(link)]\n",
    "gyms"
   ]
  }
 ],
 "metadata": {
  "kernelspec": {
   "display_name": "stat386",
   "language": "python",
   "name": "python3"
  },
  "language_info": {
   "codemirror_mode": {
    "name": "ipython",
    "version": 3
   },
   "file_extension": ".py",
   "mimetype": "text/x-python",
   "name": "python",
   "nbconvert_exporter": "python",
   "pygments_lexer": "ipython3",
   "version": "3.10.0"
  }
 },
 "nbformat": 4,
 "nbformat_minor": 2
}
