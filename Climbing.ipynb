{
 "cells": [
  {
   "cell_type": "code",
   "execution_count": 6,
   "metadata": {},
   "outputs": [],
   "source": [
    "import pandas as pd\n",
    "import numpy as np\n",
    "from bs4 import BeautifulSoup\n",
    "import requests\n",
    "import re\n",
    "import time\n",
    "import os"
   ]
  },
  {
   "cell_type": "code",
   "execution_count": 7,
   "metadata": {},
   "outputs": [],
   "source": [
    "# Creates a list of strings that match the files in the directory\n",
    "nums = [str(num) for num in range(1, 9)]\n",
    "data = [\"route-finder_\" + i + \".csv\" for i in nums]"
   ]
  },
  {
   "cell_type": "code",
   "execution_count": 8,
   "metadata": {},
   "outputs": [],
   "source": [
    "# Creates a list of dataframes, one for each .csv file in the directory\n",
    "route_finder_list = [pd.read_csv(climb) for climb in data]"
   ]
  },
  {
   "cell_type": "code",
   "execution_count": 9,
   "metadata": {},
   "outputs": [],
   "source": [
    "# Stacks all of the dataframes to make one big dataframe\n",
    "climbs = pd.concat(route_finder_list).reset_index()"
   ]
  },
  {
   "cell_type": "code",
   "execution_count": 10,
   "metadata": {},
   "outputs": [],
   "source": [
    "# Write out the Combined version of the data so that I have a csv with all of the data in it \n",
    "#climbs.to_csv(\"utah_climbs.csv\", index = False)"
   ]
  },
  {
   "cell_type": "code",
   "execution_count": 11,
   "metadata": {},
   "outputs": [
    {
     "data": {
      "text/plain": [
       "index                                                           143\n",
       "Route                                                     Altar Boy\n",
       "Location          PA's Mother > Rock Canyon > Southern Wasatch >...\n",
       "URL               https://www.mountainproject.com/route/10680596...\n",
       "Avg Stars                                                       2.0\n",
       "Your Stars                                                       -1\n",
       "Route Type                                              Trad, Sport\n",
       "Rating                                                 5.10b/c PG13\n",
       "Pitches                                                           1\n",
       "Length                                                        100.0\n",
       "Area Latitude                                               40.2656\n",
       "Area Longitude                                            -111.6204\n",
       "PG13                                                           True\n",
       "R                                                             False\n",
       "Name: 918, dtype: object"
      ]
     },
     "execution_count": 11,
     "metadata": {},
     "output_type": "execute_result"
    }
   ],
   "source": [
    "# This Code creates two boolean factors for whether the climb is rated PG13 or R\n",
    "pg13 = climbs.Rating.str.extract(\"(PG13)\")\n",
    "R = climbs.Rating.str.extract(\"(R)\")\n",
    "climbs[\"PG13\"] = pg13 == \"PG13\"\n",
    "climbs[\"R\"] = R == \"R\"\n",
    "climbs.iloc[918]"
   ]
  },
  {
   "cell_type": "code",
   "execution_count": 12,
   "metadata": {},
   "outputs": [],
   "source": [
    "# Remove PG13 and R from the \"Rating\" column\n",
    "climbs[\"Rating\"] = climbs.Rating.str.replace(\"(PG13|R)\", \"\", regex = True)\n"
   ]
  },
  {
   "cell_type": "code",
   "execution_count": 19,
   "metadata": {},
   "outputs": [
    {
     "data": {
      "text/plain": [
       "1388"
      ]
     },
     "execution_count": 19,
     "metadata": {},
     "output_type": "execute_result"
    }
   ],
   "source": [
    "locs = climbs.Location.apply(lambda x : x[::-1]).str.extract(r\"([A-Za-z1-9 ]+)>([A-Za-z1-9 ]+)>([A-Za-z1-9 ]+)>([A-Za-z1-9 ]+)>([A-Za-z1-9 ]+)\")\n",
    "\n",
    "# for i in range(4):\n",
    "#     locs[i] = locs[i].apply(lambda x : x[::-1])\n",
    "locs[\"State\"] = locs[0]\n",
    "locs[\"Region\"] = locs[1]\n",
    "locs[\"Location\"] = locs[2]\n",
    "locs[\"Crag\"] = locs[3]\n",
    "locs[\"Wall\"] = locs[4]\n",
    "locs.State   #.apply(lambda x : x[::-1])"
   ]
  },
  {
   "cell_type": "code",
   "execution_count": 24,
   "metadata": {},
   "outputs": [
    {
     "data": {
      "text/plain": [
       "0    0\n",
       "dtype: int64"
      ]
     },
     "execution_count": 24,
     "metadata": {},
     "output_type": "execute_result"
    }
   ],
   "source": [
    "climbs[\"Location\"].str.extract(\"(> Utah$)\").isna().sum()"
   ]
  },
  {
   "cell_type": "code",
   "execution_count": 15,
   "metadata": {},
   "outputs": [],
   "source": [
    "url = \"https://www.mountainproject.com/gyms/utah\""
   ]
  },
  {
   "cell_type": "code",
   "execution_count": 16,
   "metadata": {},
   "outputs": [],
   "source": [
    "r = requests.get(url)"
   ]
  },
  {
   "cell_type": "code",
   "execution_count": 17,
   "metadata": {},
   "outputs": [],
   "source": [
    "soup = BeautifulSoup(r.text)"
   ]
  },
  {
   "cell_type": "code",
   "execution_count": 18,
   "metadata": {},
   "outputs": [
    {
     "data": {
      "text/plain": [
       "['Add Missing Gym',\n",
       " 'AlpenFit - Indoor Training for Outdoo…',\n",
       " 'Contact Climbing',\n",
       " 'Dimple Dell',\n",
       " 'Double-Diamond Climbing Wall',\n",
       " 'Elevation Rock Gym',\n",
       " 'Fit Stop Rock Climbing Gym',\n",
       " 'iROCK Utah',\n",
       " 'Lehi Legacy Center',\n",
       " 'Momentum Indoor Climbing Gym',\n",
       " 'Momentum Lehi',\n",
       " 'Momentum Millcreek',\n",
       " 'Salt Lake Bouldering Project',\n",
       " 'SUU Climbing Gym',\n",
       " 'Taylorsville Rec Center',\n",
       " 'Technical Training Center',\n",
       " 'The Front Climbing Club',\n",
       " 'The Front Climbing Club',\n",
       " 'The Front Climbing Club - South Main',\n",
       " 'The Project',\n",
       " 'The Quarry',\n",
       " 'The Scratch Pad',\n",
       " 'The Summit',\n",
       " 'Uintah Recreation Community Center',\n",
       " 'Ultimate Sports Arena',\n",
       " 'Washington City Community Center',\n",
       " 'West Valley Family Fitness Center cli…']"
      ]
     },
     "execution_count": 18,
     "metadata": {},
     "output_type": "execute_result"
    }
   ],
   "source": [
    "links = soup.find_all('a')\n",
    "\n",
    "def hasGym(link):\n",
    "    try:\n",
    "        if \"gym/\" in link[\"href\"]:\n",
    "            return True\n",
    "        else:\n",
    "            return False\n",
    "    except:\n",
    "        return False\n",
    "\n",
    "gyms = [link.text for link in links if hasGym(link)]\n",
    "gyms"
   ]
  }
 ],
 "metadata": {
  "kernelspec": {
   "display_name": "stat386",
   "language": "python",
   "name": "python3"
  },
  "language_info": {
   "codemirror_mode": {
    "name": "ipython",
    "version": 3
   },
   "file_extension": ".py",
   "mimetype": "text/x-python",
   "name": "python",
   "nbconvert_exporter": "python",
   "pygments_lexer": "ipython3",
   "version": "3.10.0"
  }
 },
 "nbformat": 4,
 "nbformat_minor": 2
}
