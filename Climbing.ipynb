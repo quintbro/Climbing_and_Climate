{
 "cells": [
  {
   "cell_type": "code",
   "execution_count": 1,
   "metadata": {},
   "outputs": [],
   "source": [
    "import pandas as pd\n",
    "import numpy as np\n",
    "from bs4 import BeautifulSoup\n",
    "import requests\n",
    "import re\n",
    "import time\n",
    "import os"
   ]
  },
  {
   "cell_type": "code",
   "execution_count": 8,
   "metadata": {},
   "outputs": [],
   "source": [
    "# Creates a list of strings that match the files in the directory\n",
    "nums = [str(num) for num in range(1, 9)]\n",
    "data = [\"route-finder_\" + i + \".csv\" for i in nums]"
   ]
  },
  {
   "cell_type": "code",
   "execution_count": 9,
   "metadata": {},
   "outputs": [],
   "source": [
    "# Creates a list of dataframes, one for each .csv file in the directory\n",
    "route_finder_list = [pd.read_csv(climb) for climb in data]"
   ]
  },
  {
   "cell_type": "code",
   "execution_count": 10,
   "metadata": {},
   "outputs": [],
   "source": [
    "# Stacks all of the dataframes to make one big dataframe\n",
    "climbs = pd.concat(route_finder_list).reset_index()"
   ]
  },
  {
   "cell_type": "code",
   "execution_count": 10,
   "metadata": {},
   "outputs": [],
   "source": [
    "# Write out the Combined version of the data so that I have a csv with all of the data in it \n",
    "#climbs.to_csv(\"utah_climbs.csv\", index = False)"
   ]
  },
  {
   "cell_type": "code",
   "execution_count": 11,
   "metadata": {},
   "outputs": [
    {
     "data": {
      "text/plain": [
       "index                                                           143\n",
       "Route                                                     Altar Boy\n",
       "Location          PA's Mother > Rock Canyon > Southern Wasatch >...\n",
       "URL               https://www.mountainproject.com/route/10680596...\n",
       "Avg Stars                                                       2.0\n",
       "Your Stars                                                       -1\n",
       "Route Type                                              Trad, Sport\n",
       "Rating                                                 5.10b/c PG13\n",
       "Pitches                                                           1\n",
       "Length                                                        100.0\n",
       "Area Latitude                                               40.2656\n",
       "Area Longitude                                            -111.6204\n",
       "PG13                                                           True\n",
       "R                                                             False\n",
       "Name: 918, dtype: object"
      ]
     },
     "execution_count": 11,
     "metadata": {},
     "output_type": "execute_result"
    }
   ],
   "source": [
    "# This Code creates two boolean factors for whether the climb is rated PG13 or R\n",
    "pg13 = climbs.Rating.str.extract(\"(PG13)\")\n",
    "R = climbs.Rating.str.extract(\"(R)\")\n",
    "climbs[\"PG13\"] = pg13 == \"PG13\"\n",
    "climbs[\"R\"] = R == \"R\"\n",
    "climbs.iloc[918]"
   ]
  },
  {
   "cell_type": "code",
   "execution_count": 12,
   "metadata": {},
   "outputs": [],
   "source": [
    "# Remove PG13 and R from the \"Rating\" column\n",
    "climbs[\"Rating\"] = climbs.Rating.str.replace(\"(PG13|R)\", \"\", regex = True)\n"
   ]
  },
  {
   "cell_type": "code",
   "execution_count": 13,
   "metadata": {},
   "outputs": [
    {
     "data": {
      "text/plain": [
       "0       hatU \n",
       "1       hatU \n",
       "2       hatU \n",
       "3       hatU \n",
       "4       hatU \n",
       "        ...  \n",
       "6102      NaN\n",
       "6103      NaN\n",
       "6104      NaN\n",
       "6105      NaN\n",
       "6106      NaN\n",
       "Name: State, Length: 6107, dtype: object"
      ]
     },
     "execution_count": 13,
     "metadata": {},
     "output_type": "execute_result"
    }
   ],
   "source": [
    "locs = climbs.Location.apply(lambda x : x[::-1]).str.extract(r\"([A-Za-z1-9 ]+)>([A-Za-z1-9 ]+)>([A-Za-z1-9 ]+)>([A-Za-z1-9 ]+)>([A-Za-z1-9 ]+)\")\n",
    "\n",
    "# for i in range(4):\n",
    "#     locs[i] = locs[i].apply(lambda x : x[::-1])\n",
    "locs[\"State\"] = locs[0]\n",
    "locs[\"Region\"] = locs[1]\n",
    "locs[\"Location\"] = locs[2]\n",
    "locs[\"Crag\"] = locs[3]\n",
    "locs[\"Wall\"] = locs[4]\n",
    "locs.State   #.apply(lambda x : x[::-1])"
   ]
  },
  {
   "cell_type": "code",
   "execution_count": 14,
   "metadata": {},
   "outputs": [
    {
     "data": {
      "text/plain": [
       "0    0\n",
       "dtype: int64"
      ]
     },
     "execution_count": 14,
     "metadata": {},
     "output_type": "execute_result"
    }
   ],
   "source": [
    "climbs[\"Location\"].str.extract(\"(> Utah$)\").isna().sum()"
   ]
  },
  {
   "cell_type": "code",
   "execution_count": 15,
   "metadata": {},
   "outputs": [],
   "source": [
    "url = \"https://www.mountainproject.com/gyms/utah\""
   ]
  },
  {
   "cell_type": "code",
   "execution_count": 16,
   "metadata": {},
   "outputs": [],
   "source": [
    "r = requests.get(url)"
   ]
  },
  {
   "cell_type": "code",
   "execution_count": 17,
   "metadata": {},
   "outputs": [],
   "source": [
    "soup = BeautifulSoup(r.text)"
   ]
  },
  {
   "cell_type": "code",
   "execution_count": 18,
   "metadata": {},
   "outputs": [
    {
     "data": {
      "text/plain": [
       "['Add Missing Gym',\n",
       " 'AlpenFit - Indoor Training for Outdoo…',\n",
       " 'Contact Climbing',\n",
       " 'Dimple Dell',\n",
       " 'Double-Diamond Climbing Wall',\n",
       " 'Elevation Rock Gym',\n",
       " 'Fit Stop Rock Climbing Gym',\n",
       " 'iROCK Utah',\n",
       " 'Lehi Legacy Center',\n",
       " 'Momentum Indoor Climbing Gym',\n",
       " 'Momentum Lehi',\n",
       " 'Momentum Millcreek',\n",
       " 'Salt Lake Bouldering Project',\n",
       " 'SUU Climbing Gym',\n",
       " 'Taylorsville Rec Center',\n",
       " 'Technical Training Center',\n",
       " 'The Front Climbing Club',\n",
       " 'The Front Climbing Club',\n",
       " 'The Front Climbing Club - South Main',\n",
       " 'The Project',\n",
       " 'The Quarry',\n",
       " 'The Scratch Pad',\n",
       " 'The Summit',\n",
       " 'Uintah Recreation Community Center',\n",
       " 'Ultimate Sports Arena',\n",
       " 'Washington City Community Center',\n",
       " 'West Valley Family Fitness Center cli…']"
      ]
     },
     "execution_count": 18,
     "metadata": {},
     "output_type": "execute_result"
    }
   ],
   "source": [
    "links = soup.find_all('a')\n",
    "\n",
    "def hasGym(link):\n",
    "    try:\n",
    "        if \"gym/\" in link[\"href\"]:\n",
    "            return True\n",
    "        else:\n",
    "            return False\n",
    "    except:\n",
    "        return False\n",
    "\n",
    "gyms = [link.text for link in links if hasGym(link)]\n",
    "gyms"
   ]
  },
  {
   "cell_type": "code",
   "execution_count": 4,
   "metadata": {},
   "outputs": [
    {
     "data": {
      "text/html": [
       "<div>\n",
       "<style scoped>\n",
       "    .dataframe tbody tr th:only-of-type {\n",
       "        vertical-align: middle;\n",
       "    }\n",
       "\n",
       "    .dataframe tbody tr th {\n",
       "        vertical-align: top;\n",
       "    }\n",
       "\n",
       "    .dataframe thead th {\n",
       "        text-align: right;\n",
       "    }\n",
       "</style>\n",
       "<table border=\"1\" class=\"dataframe\">\n",
       "  <thead>\n",
       "    <tr style=\"text-align: right;\">\n",
       "      <th></th>\n",
       "      <th>X</th>\n",
       "      <th>Y</th>\n",
       "      <th>OBJECTID</th>\n",
       "      <th>STATION_NA</th>\n",
       "      <th>STN_ID_</th>\n",
       "      <th>SECONDARY_</th>\n",
       "      <th>STN_AUTHOR</th>\n",
       "      <th>NETWORK_</th>\n",
       "      <th>LOCATION_O</th>\n",
       "      <th>TYPE_OF_OB</th>\n",
       "      <th>...</th>\n",
       "      <th>SOIL_TEMP</th>\n",
       "      <th>FUEL_TEMP</th>\n",
       "      <th>FUEL_MOIST</th>\n",
       "      <th>PRESSURE</th>\n",
       "      <th>SL_PRESSUR</th>\n",
       "      <th>ALTIMETER</th>\n",
       "      <th>WEATHER_CO</th>\n",
       "      <th>VISIBILITY</th>\n",
       "      <th>UVB</th>\n",
       "      <th>ELEVATION</th>\n",
       "    </tr>\n",
       "  </thead>\n",
       "  <tbody>\n",
       "    <tr>\n",
       "      <th>0</th>\n",
       "      <td>-1.257919e+07</td>\n",
       "      <td>4.439105e+06</td>\n",
       "      <td>1</td>\n",
       "      <td>CANNAN</td>\n",
       "      <td>42115T04</td>\n",
       "      <td></td>\n",
       "      <td>NWS</td>\n",
       "      <td>COOP</td>\n",
       "      <td>http://climate.usu.edu</td>\n",
       "      <td>ONCE DAILY</td>\n",
       "      <td>...</td>\n",
       "      <td></td>\n",
       "      <td></td>\n",
       "      <td></td>\n",
       "      <td></td>\n",
       "      <td></td>\n",
       "      <td></td>\n",
       "      <td></td>\n",
       "      <td></td>\n",
       "      <td></td>\n",
       "      <td>5000.000000</td>\n",
       "    </tr>\n",
       "    <tr>\n",
       "      <th>1</th>\n",
       "      <td>-1.261042e+07</td>\n",
       "      <td>4.439189e+06</td>\n",
       "      <td>2</td>\n",
       "      <td>FORT PEARCE /ST GEORGE</td>\n",
       "      <td>FPWU1</td>\n",
       "      <td>DD09129A</td>\n",
       "      <td>NOAA/NWS</td>\n",
       "      <td>HADS</td>\n",
       "      <td>http://amazon.nws.noaa.gov/hads/charts/UT.html</td>\n",
       "      <td>HOURLY</td>\n",
       "      <td>...</td>\n",
       "      <td></td>\n",
       "      <td></td>\n",
       "      <td></td>\n",
       "      <td></td>\n",
       "      <td></td>\n",
       "      <td></td>\n",
       "      <td></td>\n",
       "      <td></td>\n",
       "      <td></td>\n",
       "      <td></td>\n",
       "    </tr>\n",
       "    <tr>\n",
       "      <th>2</th>\n",
       "      <td>-1.262424e+07</td>\n",
       "      <td>4.439830e+06</td>\n",
       "      <td>3</td>\n",
       "      <td>VIRGIN RIVER/ST GEORGE 10SW</td>\n",
       "      <td>VRSU1</td>\n",
       "      <td></td>\n",
       "      <td>1668A424</td>\n",
       "      <td>HADS</td>\n",
       "      <td>http://amazon.nws.noaa.gov/hads/charts/UT.html</td>\n",
       "      <td>HOURLY</td>\n",
       "      <td>...</td>\n",
       "      <td></td>\n",
       "      <td></td>\n",
       "      <td></td>\n",
       "      <td></td>\n",
       "      <td></td>\n",
       "      <td></td>\n",
       "      <td></td>\n",
       "      <td></td>\n",
       "      <td></td>\n",
       "      <td></td>\n",
       "    </tr>\n",
       "    <tr>\n",
       "      <th>3</th>\n",
       "      <td>-1.252687e+07</td>\n",
       "      <td>4.440500e+06</td>\n",
       "      <td>4</td>\n",
       "      <td>KANAB MUNICIPAL AIRPORT</td>\n",
       "      <td>KKNB</td>\n",
       "      <td>99999</td>\n",
       "      <td>National Weather Service</td>\n",
       "      <td>NWS/FAA</td>\n",
       "      <td>http://www.faa.gov/asos/</td>\n",
       "      <td>HOURLY</td>\n",
       "      <td>...</td>\n",
       "      <td></td>\n",
       "      <td></td>\n",
       "      <td></td>\n",
       "      <td>PR</td>\n",
       "      <td>SLP</td>\n",
       "      <td>A</td>\n",
       "      <td>WC</td>\n",
       "      <td>VIS</td>\n",
       "      <td></td>\n",
       "      <td>4863.912000</td>\n",
       "    </tr>\n",
       "    <tr>\n",
       "      <th>4</th>\n",
       "      <td>-1.257535e+07</td>\n",
       "      <td>4.441154e+06</td>\n",
       "      <td>5</td>\n",
       "      <td>CW2921 Hildale</td>\n",
       "      <td>C2921</td>\n",
       "      <td>9999999</td>\n",
       "      <td>APRSWXNET/Citizen Weather Observer Program</td>\n",
       "      <td>APRSWXNET/CWOP</td>\n",
       "      <td>http://www.wxqa.com/states/UT.html</td>\n",
       "      <td>HOURLY</td>\n",
       "      <td>...</td>\n",
       "      <td></td>\n",
       "      <td></td>\n",
       "      <td></td>\n",
       "      <td>PR</td>\n",
       "      <td>SLP</td>\n",
       "      <td>A</td>\n",
       "      <td></td>\n",
       "      <td></td>\n",
       "      <td></td>\n",
       "      <td>5155.832000</td>\n",
       "    </tr>\n",
       "  </tbody>\n",
       "</table>\n",
       "<p>5 rows × 38 columns</p>\n",
       "</div>"
      ],
      "text/plain": [
       "              X             Y  OBJECTID                   STATION_NA  \\\n",
       "0 -1.257919e+07  4.439105e+06         1                       CANNAN   \n",
       "1 -1.261042e+07  4.439189e+06         2       FORT PEARCE /ST GEORGE   \n",
       "2 -1.262424e+07  4.439830e+06         3  VIRGIN RIVER/ST GEORGE 10SW   \n",
       "3 -1.252687e+07  4.440500e+06         4      KANAB MUNICIPAL AIRPORT   \n",
       "4 -1.257535e+07  4.441154e+06         5               CW2921 Hildale   \n",
       "\n",
       "    STN_ID_ SECONDARY_                                  STN_AUTHOR  \\\n",
       "0  42115T04                                                    NWS   \n",
       "1     FPWU1   DD09129A                                    NOAA/NWS   \n",
       "2     VRSU1                                               1668A424   \n",
       "3      KKNB      99999                    National Weather Service   \n",
       "4     C2921    9999999  APRSWXNET/Citizen Weather Observer Program   \n",
       "\n",
       "         NETWORK_                                      LOCATION_O  TYPE_OF_OB  \\\n",
       "0            COOP                          http://climate.usu.edu  ONCE DAILY   \n",
       "1            HADS  http://amazon.nws.noaa.gov/hads/charts/UT.html      HOURLY   \n",
       "2            HADS  http://amazon.nws.noaa.gov/hads/charts/UT.html      HOURLY   \n",
       "3         NWS/FAA                        http://www.faa.gov/asos/      HOURLY   \n",
       "4  APRSWXNET/CWOP              http://www.wxqa.com/states/UT.html      HOURLY   \n",
       "\n",
       "   ... SOIL_TEMP FUEL_TEMP  FUEL_MOIST  PRESSURE SL_PRESSUR  ALTIMETER  \\\n",
       "0  ...                                                                   \n",
       "1  ...                                                                   \n",
       "2  ...                                                                   \n",
       "3  ...                                        PR        SLP          A   \n",
       "4  ...                                        PR        SLP          A   \n",
       "\n",
       "  WEATHER_CO VISIBILITY UVB    ELEVATION  \n",
       "0                            5000.000000  \n",
       "1                                         \n",
       "2                                         \n",
       "3         WC        VIS      4863.912000  \n",
       "4                            5155.832000  \n",
       "\n",
       "[5 rows x 38 columns]"
      ]
     },
     "execution_count": 4,
     "metadata": {},
     "output_type": "execute_result"
    }
   ],
   "source": [
    "# Add in Weather Dataframe\n",
    "weather = pd.read_csv('Utah_Weather_Stations.csv')\n",
    "weather.head()"
   ]
  },
  {
   "cell_type": "code",
   "execution_count": 21,
   "metadata": {},
   "outputs": [
    {
     "name": "stdout",
     "output_type": "stream",
     "text": [
      "['WASHINGTON' 'KANE' 'SAN JUAN' 'IRON' 'GARFIELD' 'WEBER' 'DAGGETT'\n",
      " 'GARFILED' 'PIUTE' 'WAYNE' 'BEAVER' 'JUAB' 'GRAND' 'SEVIER' 'MILLARD'\n",
      " 'UTAH' 'DUCHESNE' 'TOOELE' 'UINTAH' 'WASATCH' 'EMERY' 'CARBON' 'SANPETE'\n",
      " 'CACHE' 'SALT LAKE' 'SUMMIT' 'DAVIS' 'BOX ELDER' 'MORGAN' 'RICH']\n"
     ]
    }
   ],
   "source": [
    "# Find disctinct counties (hopefully will match up with the regions from climbing)\n",
    "unique_counties = weather['COUNTY'].unique()\n",
    "print(unique_counties)"
   ]
  },
  {
   "cell_type": "code",
   "execution_count": 19,
   "metadata": {},
   "outputs": [
    {
     "name": "stdout",
     "output_type": "stream",
     "text": [
      "Empty DataFrame\n",
      "Columns: [index, Route, Location, URL, Avg Stars, Your Stars, Route Type, Rating, Pitches, Length, Area Latitude, Area Longitude, PG13, R]\n",
      "Index: []\n",
      "Empty DataFrame\n",
      "Columns: [index, Route, Location, URL, Avg Stars, Your Stars, Route Type, Rating, Pitches, Length, Area Latitude, Area Longitude, PG13, R]\n",
      "Index: []\n",
      "Empty DataFrame\n",
      "Columns: [index, Route, Location, URL, Avg Stars, Your Stars, Route Type, Rating, Pitches, Length, Area Latitude, Area Longitude, PG13, R]\n",
      "Index: []\n",
      "Empty DataFrame\n",
      "Columns: [index, Route, Location, URL, Avg Stars, Your Stars, Route Type, Rating, Pitches, Length, Area Latitude, Area Longitude, PG13, R]\n",
      "Index: []\n",
      "Empty DataFrame\n",
      "Columns: [index, Route, Location, URL, Avg Stars, Your Stars, Route Type, Rating, Pitches, Length, Area Latitude, Area Longitude, PG13, R]\n",
      "Index: []\n",
      "Empty DataFrame\n",
      "Columns: [index, Route, Location, URL, Avg Stars, Your Stars, Route Type, Rating, Pitches, Length, Area Latitude, Area Longitude, PG13, R]\n",
      "Index: []\n",
      "Empty DataFrame\n",
      "Columns: [index, Route, Location, URL, Avg Stars, Your Stars, Route Type, Rating, Pitches, Length, Area Latitude, Area Longitude, PG13, R]\n",
      "Index: []\n",
      "Empty DataFrame\n",
      "Columns: [index, Route, Location, URL, Avg Stars, Your Stars, Route Type, Rating, Pitches, Length, Area Latitude, Area Longitude, PG13, R]\n",
      "Index: []\n",
      "Empty DataFrame\n",
      "Columns: [index, Route, Location, URL, Avg Stars, Your Stars, Route Type, Rating, Pitches, Length, Area Latitude, Area Longitude, PG13, R]\n",
      "Index: []\n",
      "Empty DataFrame\n",
      "Columns: [index, Route, Location, URL, Avg Stars, Your Stars, Route Type, Rating, Pitches, Length, Area Latitude, Area Longitude, PG13, R]\n",
      "Index: []\n",
      "Empty DataFrame\n",
      "Columns: [index, Route, Location, URL, Avg Stars, Your Stars, Route Type, Rating, Pitches, Length, Area Latitude, Area Longitude, PG13, R]\n",
      "Index: []\n",
      "Empty DataFrame\n",
      "Columns: [index, Route, Location, URL, Avg Stars, Your Stars, Route Type, Rating, Pitches, Length, Area Latitude, Area Longitude, PG13, R]\n",
      "Index: []\n",
      "Empty DataFrame\n",
      "Columns: [index, Route, Location, URL, Avg Stars, Your Stars, Route Type, Rating, Pitches, Length, Area Latitude, Area Longitude, PG13, R]\n",
      "Index: []\n",
      "Empty DataFrame\n",
      "Columns: [index, Route, Location, URL, Avg Stars, Your Stars, Route Type, Rating, Pitches, Length, Area Latitude, Area Longitude, PG13, R]\n",
      "Index: []\n",
      "Empty DataFrame\n",
      "Columns: [index, Route, Location, URL, Avg Stars, Your Stars, Route Type, Rating, Pitches, Length, Area Latitude, Area Longitude, PG13, R]\n",
      "Index: []\n",
      "Empty DataFrame\n",
      "Columns: [index, Route, Location, URL, Avg Stars, Your Stars, Route Type, Rating, Pitches, Length, Area Latitude, Area Longitude, PG13, R]\n",
      "Index: []\n",
      "Empty DataFrame\n",
      "Columns: [index, Route, Location, URL, Avg Stars, Your Stars, Route Type, Rating, Pitches, Length, Area Latitude, Area Longitude, PG13, R]\n",
      "Index: []\n",
      "Empty DataFrame\n",
      "Columns: [index, Route, Location, URL, Avg Stars, Your Stars, Route Type, Rating, Pitches, Length, Area Latitude, Area Longitude, PG13, R]\n",
      "Index: []\n",
      "Empty DataFrame\n",
      "Columns: [index, Route, Location, URL, Avg Stars, Your Stars, Route Type, Rating, Pitches, Length, Area Latitude, Area Longitude, PG13, R]\n",
      "Index: []\n",
      "Empty DataFrame\n",
      "Columns: [index, Route, Location, URL, Avg Stars, Your Stars, Route Type, Rating, Pitches, Length, Area Latitude, Area Longitude, PG13, R]\n",
      "Index: []\n",
      "Empty DataFrame\n",
      "Columns: [index, Route, Location, URL, Avg Stars, Your Stars, Route Type, Rating, Pitches, Length, Area Latitude, Area Longitude, PG13, R]\n",
      "Index: []\n",
      "Empty DataFrame\n",
      "Columns: [index, Route, Location, URL, Avg Stars, Your Stars, Route Type, Rating, Pitches, Length, Area Latitude, Area Longitude, PG13, R]\n",
      "Index: []\n",
      "Empty DataFrame\n",
      "Columns: [index, Route, Location, URL, Avg Stars, Your Stars, Route Type, Rating, Pitches, Length, Area Latitude, Area Longitude, PG13, R]\n",
      "Index: []\n",
      "Empty DataFrame\n",
      "Columns: [index, Route, Location, URL, Avg Stars, Your Stars, Route Type, Rating, Pitches, Length, Area Latitude, Area Longitude, PG13, R]\n",
      "Index: []\n",
      "Empty DataFrame\n",
      "Columns: [index, Route, Location, URL, Avg Stars, Your Stars, Route Type, Rating, Pitches, Length, Area Latitude, Area Longitude, PG13, R]\n",
      "Index: []\n",
      "Empty DataFrame\n",
      "Columns: [index, Route, Location, URL, Avg Stars, Your Stars, Route Type, Rating, Pitches, Length, Area Latitude, Area Longitude, PG13, R]\n",
      "Index: []\n",
      "Empty DataFrame\n",
      "Columns: [index, Route, Location, URL, Avg Stars, Your Stars, Route Type, Rating, Pitches, Length, Area Latitude, Area Longitude, PG13, R]\n",
      "Index: []\n",
      "Empty DataFrame\n",
      "Columns: [index, Route, Location, URL, Avg Stars, Your Stars, Route Type, Rating, Pitches, Length, Area Latitude, Area Longitude, PG13, R]\n",
      "Index: []\n",
      "Empty DataFrame\n",
      "Columns: [index, Route, Location, URL, Avg Stars, Your Stars, Route Type, Rating, Pitches, Length, Area Latitude, Area Longitude, PG13, R]\n",
      "Index: []\n",
      "Empty DataFrame\n",
      "Columns: [index, Route, Location, URL, Avg Stars, Your Stars, Route Type, Rating, Pitches, Length, Area Latitude, Area Longitude, PG13, R]\n",
      "Index: []\n"
     ]
    }
   ],
   "source": [
    "for county in unique_counties:\n",
    "    mask = climbs['Location'].str.contains(county)\n",
    "    # Print rows where the county is found in the location column\n",
    "    print(climbs[mask])"
   ]
  }
 ],
 "metadata": {
  "kernelspec": {
   "display_name": "stat386",
   "language": "python",
   "name": "python3"
  },
  "language_info": {
   "codemirror_mode": {
    "name": "ipython",
    "version": 3
   },
   "file_extension": ".py",
   "mimetype": "text/x-python",
   "name": "python",
   "nbconvert_exporter": "python",
   "pygments_lexer": "ipython3",
   "version": "3.11.4"
  }
 },
 "nbformat": 4,
 "nbformat_minor": 2
}
