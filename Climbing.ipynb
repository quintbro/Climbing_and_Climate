{
 "cells": [
  {
   "cell_type": "code",
   "execution_count": 1,
   "metadata": {},
   "outputs": [],
   "source": [
    "import pandas as pd\n",
    "import numpy as np\n",
    "from bs4 import BeautifulSoup\n",
    "import requests\n",
    "import re\n",
    "import time\n",
    "import os"
   ]
  },
  {
   "cell_type": "code",
   "execution_count": 2,
   "metadata": {},
   "outputs": [],
   "source": [
    "# Creates a list of strings that match the files in the directory\n",
    "nums = [str(num) for num in range(1, 9)]\n",
    "data = [\"route-finder_\" + i + \".csv\" for i in nums]"
   ]
  },
  {
   "cell_type": "code",
   "execution_count": 3,
   "metadata": {},
   "outputs": [],
   "source": [
    "# Creates a list of dataframes, one for each .csv file in the directory\n",
    "route_finder_list = [pd.read_csv(climb) for climb in data]"
   ]
  },
  {
   "cell_type": "code",
   "execution_count": 4,
   "metadata": {},
   "outputs": [],
   "source": [
    "# Stacks all of the dataframes to make one big dataframe\n",
    "climbs = pd.concat(route_finder_list).reset_index()"
   ]
  },
  {
   "cell_type": "code",
   "execution_count": 5,
   "metadata": {},
   "outputs": [],
   "source": [
    "# Write out the Combined version of the data so that I have a csv with all of the data in it \n",
    "#climbs.to_csv(\"utah_climbs.csv\", index = False)"
   ]
  },
  {
   "cell_type": "code",
   "execution_count": 6,
   "metadata": {},
   "outputs": [
    {
     "data": {
      "text/plain": [
       "index                                                           143\n",
       "Route                                                     Altar Boy\n",
       "Location          PA's Mother > Rock Canyon > Southern Wasatch >...\n",
       "URL               https://www.mountainproject.com/route/10680596...\n",
       "Avg Stars                                                       2.0\n",
       "Your Stars                                                       -1\n",
       "Route Type                                              Trad, Sport\n",
       "Rating                                                 5.10b/c PG13\n",
       "Pitches                                                           1\n",
       "Length                                                        100.0\n",
       "Area Latitude                                               40.2656\n",
       "Area Longitude                                            -111.6204\n",
       "PG13                                                           True\n",
       "R                                                             False\n",
       "Name: 918, dtype: object"
      ]
     },
     "execution_count": 6,
     "metadata": {},
     "output_type": "execute_result"
    }
   ],
   "source": [
    "# This Code creates two boolean factors for whether the climb is rated PG13 or R\n",
    "pg13 = climbs.Rating.str.extract(\"(PG13)\")\n",
    "R = climbs.Rating.str.extract(\"(R)\")\n",
    "climbs[\"PG13\"] = pg13 == \"PG13\"\n",
    "climbs[\"R\"] = R == \"R\""
   ]
  },
  {
   "cell_type": "code",
   "execution_count": 7,
   "metadata": {},
   "outputs": [],
   "source": [
    "# Remove PG13 and R from the \"Rating\" column\n",
    "climbs[\"Rating\"] = climbs.Rating.str.replace(\"(PG13|R)\", \"\", regex = True)\n"
   ]
  },
  {
   "cell_type": "code",
   "execution_count": 8,
   "metadata": {},
   "outputs": [],
   "source": [
    "# This Code Separates out the \"Location\" column into \"State\", \"Region\", \"Location\", \"Crag\", and \"Wall\"\n",
    "locs = climbs.Location.apply(lambda x : x[::-1]).str.extract(\"([A-Za-z1-9& ]*)>*([A-Za-z1-9& ]*)>*([A-Za-z1-9 &]*)>*([A-Za-z1-9& ]*)>*([A-Za-z1-9& ]*)\")\n",
    "locs[\"State\"] = locs[0].apply(lambda x : x[::-1]).apply(lambda x : x.strip())\n",
    "locs[\"Region\"] = locs[1].apply(lambda x : x[::-1]).apply(lambda x : x.strip())\n",
    "locs[\"Location\"] = locs[2].apply(lambda x : x[::-1]).apply(lambda x : x.strip())\n",
    "locs[\"Crag\"] = locs[3].apply(lambda x : x[::-1]).apply(lambda x : x.strip())\n",
    "locs[\"Wall\"] = locs[4].apply(lambda x : x[::-1]).apply(lambda x : x.strip())"
   ]
  },
  {
   "cell_type": "code",
   "execution_count": 33,
   "metadata": {},
   "outputs": [],
   "source": [
    "# This Adds the new variables into the dataframe and drops \"index\" and \"Your Stars\"\n",
    "climbs.drop([\"Location\"], axis=1, inplace=True)\n",
    "climbs[[\"State\", \"Region\", \"Location\", \"Crag\", \"Wall\"]] = locs.drop([0, 1, 2, 3, 4], axis=1).replace(\"\", np.NaN)\n",
    "climbs.drop([\"Your Stars\"], axis=1, inplace=True)\n",
    "climbs.drop([\"index\"], axis = 1, inplace = True)"
   ]
  },
  {
   "cell_type": "code",
   "execution_count": 48,
   "metadata": {},
   "outputs": [
    {
     "data": {
      "text/plain": [
       "array(['5.13c', '5.14b', '5.13d', '5.14+', '5.13c/d', '5.14a', '5.14c',\n",
       "       '5.14d', '5.14a/b', '5.14-', '5.13+', '5.14b/c', '5.15d', '5.9-',\n",
       "       '5.9 ', '5.9', '5.9 A0 ', '5.9+', '5.9- ', '5.9+ X', '5.9+ ',\n",
       "       '5.9 A1', '5.9 M5', '5.10a', '5.10a/b', '5.10b ', '5.10b', '5.10 ',\n",
       "       '5.10', '5.10 A0 ', '5.10b/c', '5.10-', '5.10b/c ', '5.10a ',\n",
       "       '5.10- ', '5.10c', '5.10+', '5.10+ ', '5.10c/d', '5.10d',\n",
       "       '5.10c/d ', '5.10d ', '5.10c ', '5.11', '5.11 ', '5.11- C0',\n",
       "       '5.11a/b', '5.11b', '5.11a', '5.11a ', '5.11-', '5.11b ',\n",
       "       '5.11b/c', '5.11b/c ', '5.11a/b ', '5.11b/c M7', '5.11b A0',\n",
       "       '5.11a A0', '5.11- ', '5.12a', '5.12-', '5.11c', '5.11+ ', '5.11d',\n",
       "       '5.11+', '5.12a/b', '5.12a ', '5.12- ', '5.12- V4', '5.11c/d',\n",
       "       '5.11d ', '5.11c ', '5.11c X', '5.11+ M8-', '5.12- X', '5.12a/b ',\n",
       "       '5.12a A0', '5.12b', '5.12+', '5.12', '5.12b ', '5.12c', '5.12d',\n",
       "       '5.12b/c', '5.13a', '5.13a/b', '5.12c ', '5.12c/d', '5.13b',\n",
       "       '5.13-', '5.13a V7', '5.12d A1', '5.13a ', '5.12b V5', '5.12c V7',\n",
       "       '5.12d ', '5.7', '5.8 ', '5.7 ', '5.8', '5.8+', '5.8+ ', '5.6',\n",
       "       '5.7+', '5.8 A0+ ', '5.6 X', '5.6 ', '5.8-', '5.7 M4', '5.7 M3+',\n",
       "       '5.7+ ', '5.8- ', '5.8 V0+'], dtype=object)"
      ]
     },
     "execution_count": 48,
     "metadata": {},
     "output_type": "execute_result"
    }
   ],
   "source": [
    "rating_dict = {\"5.6\" : 1,\n",
    "               \"\"}"
   ]
  },
  {
   "cell_type": "code",
   "execution_count": 9,
   "metadata": {},
   "outputs": [],
   "source": [
    "url = \"https://www.mountainproject.com/gyms/utah\""
   ]
  },
  {
   "cell_type": "code",
   "execution_count": 10,
   "metadata": {},
   "outputs": [],
   "source": [
    "r = requests.get(url)"
   ]
  },
  {
   "cell_type": "code",
   "execution_count": 11,
   "metadata": {},
   "outputs": [],
   "source": [
    "soup = BeautifulSoup(r.text)"
   ]
  },
  {
   "cell_type": "code",
   "execution_count": 12,
   "metadata": {},
   "outputs": [
    {
     "data": {
      "text/plain": [
       "['Add Missing Gym',\n",
       " 'AlpenFit - Indoor Training for Outdoo…',\n",
       " 'Contact Climbing',\n",
       " 'Dimple Dell',\n",
       " 'Double-Diamond Climbing Wall',\n",
       " 'Elevation Rock Gym',\n",
       " 'Fit Stop Rock Climbing Gym',\n",
       " 'iROCK Utah',\n",
       " 'Lehi Legacy Center',\n",
       " 'Momentum Indoor Climbing Gym',\n",
       " 'Momentum Lehi',\n",
       " 'Momentum Millcreek',\n",
       " 'Salt Lake Bouldering Project',\n",
       " 'SUU Climbing Gym',\n",
       " 'Taylorsville Rec Center',\n",
       " 'Technical Training Center',\n",
       " 'The Front Climbing Club',\n",
       " 'The Front Climbing Club',\n",
       " 'The Front Climbing Club - South Main',\n",
       " 'The Project',\n",
       " 'The Quarry',\n",
       " 'The Scratch Pad',\n",
       " 'The Summit',\n",
       " 'Uintah Recreation Community Center',\n",
       " 'Ultimate Sports Arena',\n",
       " 'Washington City Community Center',\n",
       " 'West Valley Family Fitness Center cli…']"
      ]
     },
     "execution_count": 12,
     "metadata": {},
     "output_type": "execute_result"
    }
   ],
   "source": [
    "links = soup.find_all('a')\n",
    "\n",
    "def hasGym(link):\n",
    "    try:\n",
    "        if \"gym/\" in link[\"href\"]:\n",
    "            return True\n",
    "        else:\n",
    "            return False\n",
    "    except:\n",
    "        return False\n",
    "\n",
    "gyms = [link.text for link in links if hasGym(link)]\n",
    "gyms"
   ]
  }
 ],
 "metadata": {
  "kernelspec": {
   "display_name": "stat386",
   "language": "python",
   "name": "python3"
  },
  "language_info": {
   "codemirror_mode": {
    "name": "ipython",
    "version": 3
   },
   "file_extension": ".py",
   "mimetype": "text/x-python",
   "name": "python",
   "nbconvert_exporter": "python",
   "pygments_lexer": "ipython3",
   "version": "3.10.0"
  }
 },
 "nbformat": 4,
 "nbformat_minor": 2
}
